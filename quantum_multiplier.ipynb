{
 "cells": [
  {
   "cell_type": "code",
   "execution_count": 1,
   "id": "c05cea99-7024-4dec-8e01-ce23baffe8bf",
   "metadata": {},
   "outputs": [
    {
     "name": "stderr",
     "output_type": "stream",
     "text": [
      "<frozen importlib._bootstrap>:219: RuntimeWarning: scipy._lib.messagestream.MessageStream size changed, may indicate binary incompatibility. Expected 56 from C header, got 64 from PyObject\n"
     ]
    }
   ],
   "source": [
    "import numpy as np\n",
    "\n",
    "from qiskit import QuantumCircuit, transpile, Aer, IBMQ\n",
    "from qiskit.tools.jupyter import *\n",
    "from qiskit.visualization import *\n",
    "from qiskit.providers.aer import QasmSimulator\n",
    "\n",
    "# Loading IBM Quantum account(s)\n",
    "provider = IBMQ.load_account()"
   ]
  },
  {
   "cell_type": "code",
   "execution_count": 2,
   "id": "51d5585b-e0f1-4b40-9835-a5eef2495589",
   "metadata": {},
   "outputs": [
    {
     "name": "stdin",
     "output_type": "stream",
     "text": [
      "Enter the multiplicand. 1101\n",
      "Enter the multiplier. 101\n"
     ]
    },
    {
     "name": "stderr",
     "output_type": "stream",
     "text": [
      "/tmp/ipykernel_113/1054794286.py:8: DeprecationWarning: The QuantumCircuit.cu1 method is deprecated as of 0.16.0. It will be removed no earlier than 3 months after the release date. You should use the QuantumCircuit.cp method instead, which acts identically.\n",
      "  qc.cu1(pie / float(2**(i + 1)), reg[n - (i + 1)], reg[n])\n",
      "/tmp/ipykernel_113/1054794286.py:17: DeprecationWarning: The QuantumCircuit.cu1 method is deprecated as of 0.16.0. It will be removed no earlier than 3 months after the release date. You should use the QuantumCircuit.cp method instead, which acts identically.\n",
      "  qc.cu1(factor*pie / float(2**(i)), reg_b[n - i], reg_a[n])\n",
      "/tmp/ipykernel_113/1054794286.py:22: DeprecationWarning: The QuantumCircuit.cu1 method is deprecated as of 0.16.0. It will be removed no earlier than 3 months after the release date. You should use the QuantumCircuit.cp method instead, which acts identically.\n",
      "  qc.cu1(-1 * pie / float(2**(n - i)), reg[i], reg[n])\n"
     ]
    },
    {
     "name": "stdout",
     "output_type": "stream",
     "text": [
      "{'1000001': 200}\n"
     ]
    },
    {
     "data": {
      "text/plain": [
       "1000001"
      ]
     },
     "execution_count": 2,
     "metadata": {},
     "output_type": "execute_result"
    }
   ],
   "source": [
    "from qiskit import QuantumRegister, QuantumCircuit, ClassicalRegister\n",
    "from qiskit import Aer, execute\n",
    "from math import pi\n",
    "\n",
    "def createInputState(qc, reg, n, pie):\n",
    "    qc.h(reg[n])\n",
    "    for i in range(0, n):\n",
    "        qc.cu1(pie / float(2**(i + 1)), reg[n - (i + 1)], reg[n])\n",
    "\n",
    "\n",
    "def evolveQFTState(qc, reg_a, reg_b, n, pie, factor):\n",
    "    l = len(reg_b)\n",
    "    for i in range(0, n + 1):\n",
    "        if (n - i) > l - 1:\n",
    "            pass\n",
    "        else:\n",
    "            qc.cu1(factor*pie / float(2**(i)), reg_b[n - i], reg_a[n])\n",
    "\n",
    "\n",
    "def inverseQFT(qc, reg, n, pie):\n",
    "    for i in range(0, n):\n",
    "        qc.cu1(-1 * pie / float(2**(n - i)), reg[i], reg[n])\n",
    "    qc.h(reg[n])\n",
    "\n",
    "\n",
    "def add(reg_a, reg_b, circ, factor):\n",
    "    pie = pi\n",
    "    n = len(reg_a) - 1\n",
    "\n",
    "    # Compute the Fourier transform of register a\n",
    "    for i in range(0, n + 1):\n",
    "        createInputState(circ, reg_a, n - i, pie)\n",
    "    # Add the two numbers by evolving the Fourier transform F(ψ(register_a))>\n",
    "    # to |F(ψ(reg_a+reg_b))>\n",
    "    for i in range(0, n + 1):\n",
    "        evolveQFTState(circ, reg_a, reg_b, n - i, pie, factor)\n",
    "    # Compute the inverse Fourier transform of register a\n",
    "    for i in range(0, n + 1):\n",
    "        inverseQFT(circ, reg_a, i, pie)\n",
    "\n",
    "\n",
    "# Take two numbers as user input in binary form\n",
    "multiplicand_in = input(\"Enter the multiplicand.\")\n",
    "l1 = len(multiplicand_in)\n",
    "multiplier_in = input(\"Enter the multiplier.\")\n",
    "l2 = len(multiplier_in)\n",
    "# Make sure multiplicand_in holds the larger number\n",
    "if l2 > l1:\n",
    "    multiplier_in, multiplicand_in = multiplicand_in, multiplier_in\n",
    "    l2, l1 = l1, l2\n",
    "\n",
    "multiplicand = QuantumRegister(l1)\n",
    "multiplier = QuantumRegister(l2)\n",
    "accumulator = QuantumRegister(l1 + l2)\n",
    "cl = ClassicalRegister(l1 + l2)\n",
    "d = QuantumRegister(1)\n",
    "\n",
    "circ = QuantumCircuit(accumulator, multiplier, multiplicand,\n",
    "    d, cl, name=\"qc\")\n",
    "\n",
    "circ.x(d)\n",
    "# Store bit strings in quantum registers\n",
    "for i in range(l1):\n",
    "    if multiplicand_in[i] == '1':\n",
    "        circ.x(multiplicand[l1 - i - 1])\n",
    "\n",
    "for i in range(l2):\n",
    "    if multiplier_in[i] == '1':\n",
    "        circ.x(multiplier[l2 - i - 1])\n",
    "\n",
    "multiplier_str = '1'\n",
    "# Perform repeated addition until the multiplier\n",
    "# is zero\n",
    "while(int(multiplier_str) != 0):\n",
    "    add(accumulator, multiplicand, circ, 1)\n",
    "    add(multiplier, d, circ, -1)\n",
    "    for i in range(len(multiplier)):\n",
    "        circ.measure(multiplier[i], cl[i])\n",
    "    result = execute(circ, backend=Aer.get_backend('qasm_simulator'),\n",
    "                    shots=10).result().get_counts(circ.name)\n",
    "    multiplier_str = list(result.keys())[0]\n",
    "\n",
    "circ.measure(accumulator, cl)\n",
    "result = execute(circ, backend=Aer.get_backend('qasm_simulator'),\n",
    "            shots=10).result().get_counts(circ.name)\n",
    "\n",
    "print(result)\n",
    "int(next(iter(result)))"
   ]
  },
  {
   "cell_type": "code",
   "execution_count": null,
   "id": "d1186f65-d682-4c3e-bff4-67631ef13dec",
   "metadata": {},
   "outputs": [],
   "source": []
  },
  {
   "cell_type": "code",
   "execution_count": null,
   "id": "32ddc965-94a2-4623-8a64-6a579d3fea47",
   "metadata": {},
   "outputs": [],
   "source": []
  }
 ],
 "metadata": {
  "kernelspec": {
   "display_name": "Python 3 (ipykernel)",
   "language": "python",
   "name": "python3"
  },
  "language_info": {
   "codemirror_mode": {
    "name": "ipython",
    "version": 3
   },
   "file_extension": ".py",
   "mimetype": "text/x-python",
   "name": "python",
   "nbconvert_exporter": "python",
   "pygments_lexer": "ipython3",
   "version": "3.8.13"
  },
  "widgets": {
   "application/vnd.jupyter.widget-state+json": {
    "state": {
     "0efc030f99e848a8a34882dfb9651009": {
      "model_module": "@jupyter-widgets/controls",
      "model_module_version": "1.5.0",
      "model_name": "HTMLModel",
      "state": {
       "layout": "IPY_MODEL_8d57281cf5b84f7c944567c2e07a7b44",
       "style": "IPY_MODEL_9185f3272fe54f5db3e5233a12dcaee9",
       "value": "<h5>Job ID</h5>"
      }
     },
     "18cd1f93444b4e498f7f2bb5c8f25f83": {
      "model_module": "@jupyter-widgets/base",
      "model_module_version": "1.2.0",
      "model_name": "LayoutModel",
      "state": {
       "margin": "0px 0px 0px 37px",
       "width": "600px"
      }
     },
     "1b989ca22bf14c718e627f9ca83c2a16": {
      "model_module": "@jupyter-widgets/base",
      "model_module_version": "1.2.0",
      "model_name": "LayoutModel",
      "state": {
       "margin": "0px 0px 10px 0px"
      }
     },
     "1cef5845c84d4765ad97903b6b96f92f": {
      "model_module": "@jupyter-widgets/controls",
      "model_module_version": "1.5.0",
      "model_name": "HTMLModel",
      "state": {
       "layout": "IPY_MODEL_c8495f19772b4b14950063686d005e8e",
       "style": "IPY_MODEL_3b95124f95894a379357baa82345aeb2",
       "value": "<h5>Backend</h5>"
      }
     },
     "1f23695438be43b98df1c6466a973194": {
      "model_module": "@jupyter-widgets/controls",
      "model_module_version": "1.5.0",
      "model_name": "ButtonModel",
      "state": {
       "button_style": "primary",
       "description": "Clear",
       "layout": "IPY_MODEL_b23af5183af74bdf9daea0110f69ce63",
       "style": "IPY_MODEL_20baa98975ba452abc15504e593e0bbd"
      }
     },
     "20baa98975ba452abc15504e593e0bbd": {
      "model_module": "@jupyter-widgets/controls",
      "model_module_version": "1.5.0",
      "model_name": "ButtonStyleModel",
      "state": {}
     },
     "263f99b36f1640138c9624f497b807c1": {
      "model_module": "@jupyter-widgets/controls",
      "model_module_version": "1.5.0",
      "model_name": "DescriptionStyleModel",
      "state": {
       "description_width": ""
      }
     },
     "3b95124f95894a379357baa82345aeb2": {
      "model_module": "@jupyter-widgets/controls",
      "model_module_version": "1.5.0",
      "model_name": "DescriptionStyleModel",
      "state": {
       "description_width": ""
      }
     },
     "4cd320a1ad6d4f7f9684975ff7bac814": {
      "model_module": "@jupyter-widgets/controls",
      "model_module_version": "1.5.0",
      "model_name": "GridBoxModel",
      "state": {
       "children": [
        "IPY_MODEL_1f23695438be43b98df1c6466a973194"
       ],
       "layout": "IPY_MODEL_8c0a64b8f5154bdf8e1b7b85c49403f4"
      }
     },
     "50f5e09ae3894016b035afc9f714f43a": {
      "model_module": "@jupyter-widgets/controls",
      "model_module_version": "1.5.0",
      "model_name": "DescriptionStyleModel",
      "state": {
       "description_width": ""
      }
     },
     "6e7259a6a1bb4e1da5cd8642eb4706e3": {
      "model_module": "@jupyter-widgets/controls",
      "model_module_version": "1.5.0",
      "model_name": "DescriptionStyleModel",
      "state": {
       "description_width": ""
      }
     },
     "709b7b2a69d64de5a10487fced3186be": {
      "model_module": "@jupyter-widgets/controls",
      "model_module_version": "1.5.0",
      "model_name": "DescriptionStyleModel",
      "state": {
       "description_width": ""
      }
     },
     "7bc82b1930564847bb1c42d426dc2f3f": {
      "model_module": "@jupyter-widgets/controls",
      "model_module_version": "1.5.0",
      "model_name": "HTMLModel",
      "state": {
       "layout": "IPY_MODEL_fb4ed7b5817a4924bf27c125b993ffd0",
       "style": "IPY_MODEL_6e7259a6a1bb4e1da5cd8642eb4706e3",
       "value": "<h5>Message</h5>"
      }
     },
     "8c0a64b8f5154bdf8e1b7b85c49403f4": {
      "model_module": "@jupyter-widgets/base",
      "model_module_version": "1.2.0",
      "model_name": "LayoutModel",
      "state": {
       "grid_template_areas": "\n                                       \". . . . right \"\n                                        ",
       "grid_template_columns": "20% 20% 20% 20% 20%",
       "width": "100%"
      }
     },
     "8d57281cf5b84f7c944567c2e07a7b44": {
      "model_module": "@jupyter-widgets/base",
      "model_module_version": "1.2.0",
      "model_name": "LayoutModel",
      "state": {
       "width": "190px"
      }
     },
     "9185f3272fe54f5db3e5233a12dcaee9": {
      "model_module": "@jupyter-widgets/controls",
      "model_module_version": "1.5.0",
      "model_name": "DescriptionStyleModel",
      "state": {
       "description_width": ""
      }
     },
     "9ed7c57df3844591b55a7984ecfb667f": {
      "model_module": "@jupyter-widgets/controls",
      "model_module_version": "1.5.0",
      "model_name": "HBoxModel",
      "state": {
       "children": [
        "IPY_MODEL_0efc030f99e848a8a34882dfb9651009",
        "IPY_MODEL_1cef5845c84d4765ad97903b6b96f92f",
        "IPY_MODEL_bd51a890ef7e479d82a86036679ef428",
        "IPY_MODEL_ec9681eb469448d49ed1bc47934f9c45",
        "IPY_MODEL_7bc82b1930564847bb1c42d426dc2f3f"
       ],
       "layout": "IPY_MODEL_18cd1f93444b4e498f7f2bb5c8f25f83"
      }
     },
     "b23af5183af74bdf9daea0110f69ce63": {
      "model_module": "@jupyter-widgets/base",
      "model_module_version": "1.2.0",
      "model_name": "LayoutModel",
      "state": {
       "grid_area": "right",
       "padding": "0px 0px 0px 0px",
       "width": "70px"
      }
     },
     "bd51a890ef7e479d82a86036679ef428": {
      "model_module": "@jupyter-widgets/controls",
      "model_module_version": "1.5.0",
      "model_name": "HTMLModel",
      "state": {
       "layout": "IPY_MODEL_c056525419a14a959c27e1d7f899146a",
       "style": "IPY_MODEL_263f99b36f1640138c9624f497b807c1",
       "value": "<h5>Status</h5>"
      }
     },
     "c056525419a14a959c27e1d7f899146a": {
      "model_module": "@jupyter-widgets/base",
      "model_module_version": "1.2.0",
      "model_name": "LayoutModel",
      "state": {
       "width": "95px"
      }
     },
     "c8495f19772b4b14950063686d005e8e": {
      "model_module": "@jupyter-widgets/base",
      "model_module_version": "1.2.0",
      "model_name": "LayoutModel",
      "state": {
       "width": "145px"
      }
     },
     "d49bcb6157044b718138573df5015021": {
      "model_module": "@jupyter-widgets/controls",
      "model_module_version": "1.5.0",
      "model_name": "HTMLModel",
      "state": {
       "layout": "IPY_MODEL_1b989ca22bf14c718e627f9ca83c2a16",
       "style": "IPY_MODEL_50f5e09ae3894016b035afc9f714f43a",
       "value": "<p style='font-family: IBM Plex Sans, Arial, Helvetica, sans-serif; font-size: 20px; font-weight: medium;'>Circuit Properties</p>"
      }
     },
     "ec9681eb469448d49ed1bc47934f9c45": {
      "model_module": "@jupyter-widgets/controls",
      "model_module_version": "1.5.0",
      "model_name": "HTMLModel",
      "state": {
       "layout": "IPY_MODEL_f0f1a06defbe4e0b9909278708e04129",
       "style": "IPY_MODEL_709b7b2a69d64de5a10487fced3186be",
       "value": "<h5>Queue</h5>"
      }
     },
     "f0f1a06defbe4e0b9909278708e04129": {
      "model_module": "@jupyter-widgets/base",
      "model_module_version": "1.2.0",
      "model_name": "LayoutModel",
      "state": {
       "width": "70px"
      }
     },
     "fb4ed7b5817a4924bf27c125b993ffd0": {
      "model_module": "@jupyter-widgets/base",
      "model_module_version": "1.2.0",
      "model_name": "LayoutModel",
      "state": {}
     }
    },
    "version_major": 2,
    "version_minor": 0
   }
  }
 },
 "nbformat": 4,
 "nbformat_minor": 5
}
